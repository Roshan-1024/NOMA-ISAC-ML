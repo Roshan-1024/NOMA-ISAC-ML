{
  "nbformat": 4,
  "nbformat_minor": 0,
  "metadata": {
    "colab": {
      "provenance": []
    },
    "kernelspec": {
      "name": "python3",
      "display_name": "Python 3"
    },
    "language_info": {
      "name": "python"
    }
  },
  "cells": [
    {
      "cell_type": "code",
      "source": [
        "import numpy as np\n",
        "import random"
      ],
      "metadata": {
        "id": "6yGvJFEbCoOG"
      },
      "execution_count": 9,
      "outputs": []
    },
    {
      "cell_type": "code",
      "source": [
        "def communication_term(K, W, H, rho_c=1.0, sigma_n2=1e-3):\n",
        "  ans = 0.0\n",
        "  for k in range(K):\n",
        "    min_R_kj = float(\"inf\")\n",
        "    for j in range(k, K):\n",
        "      h_j_H = H[:, j].conj().T\n",
        "      w_k = W[:, k]\n",
        "\n",
        "      num = np.abs((h_j_H @ w_k)) ** 2\n",
        "      den = np.sum([np.abs((h_j_H @ W[:, i]))**2 for i in range(k+1, K)]).item() + sigma_n2\n",
        "      val = np.log2(1 + num/den)\n",
        "\n",
        "      if val < min_R_kj:\n",
        "        min_R_kj = val\n",
        "    ans += min_R_kj # 0.0 + R1 + R2 +...+ RK\n",
        "\n",
        "  return rho_c * ans"
      ],
      "metadata": {
        "id": "ZW6nJI9AAGz2"
      },
      "execution_count": 10,
      "outputs": []
    },
    {
      "cell_type": "code",
      "source": [
        "def sensing_term(N, K, M, W, thetas, _lambda, d, rho_r=1.0):\n",
        "  ans = 0.0\n",
        "  A = np.zeros((N, M), dtype=complex) # each col is a(theta_m)\n",
        "  for i in range(N): # row\n",
        "    for m in range(M): # col\n",
        "      theta_m = thetas[m]\n",
        "      A[i, m] = np.exp(1j * 2*np.pi/_lambda * d * i * np.sin(theta_m))\n",
        "\n",
        "  # iterating through cols of W or rows of W.T\n",
        "  R_w = np.sum([np.outer(w_i, w_i.conj()) for w_i in W.T], axis=0) # shape = (N, N)\n",
        "  for m in range(M): # iterating through cols\n",
        "    col_m = A[:, m]\n",
        "    ans += np.abs(col_m.conj().T @ R_w @ col_m)\n",
        "\n",
        "  return rho_r * ans"
      ],
      "metadata": {
        "id": "f2P5ZpuVy_ZV"
      },
      "execution_count": 11,
      "outputs": []
    },
    {
      "cell_type": "code",
      "source": [
        "def f(N, K, M, W, H, thetas, _lambda, d, rho_c, rho_r, sigma_n2):\n",
        "  return communication_term(K, W, H, rho_c, sigma_n2) + sensing_term(N, K, M, W, thetas, _lambda, d, rho_r)"
      ],
      "metadata": {
        "id": "6WEQYOuh_7ex"
      },
      "execution_count": 12,
      "outputs": []
    },
    {
      "cell_type": "code",
      "source": [
        "# Test function to call f() with initialized values\n",
        "def test_f():\n",
        "    \"\"\"Initialize test parameters and call f(.)\"\"\"\n",
        "    N = 4  # Number of antennas\n",
        "    K = 3  # Number of beamformers\n",
        "    M = 2  # Number of target directions\n",
        "    _lambda = 1.0  # Wavelength (assumed to be 1 for simplicity)\n",
        "    d = 0.5  # Antenna spacing (half wavelength spacing)\n",
        "    rho_c = 1.0  # Communication-related parameter\n",
        "    rho_r = 1.0  # Sensing-related parameter\n",
        "    sigma_n2 = 1e-3  # Noise power\n",
        "\n",
        "    # Random values for W and H (beamforming vectors and channel matrix)\n",
        "    W = np.random.rand(N, K) + 1j * np.random.rand(N, K)  # Complex beamforming vectors\n",
        "    H = np.random.rand(N, K) + 1j * np.random.rand(N, K)  # Complex channel matrix\n",
        "\n",
        "    # Target directions (angles in radians)\n",
        "    thetas = np.array([0.2, 0.5])  # Two target directions for testing\n",
        "\n",
        "    # Call function f() with the initialized parameters\n",
        "    result = f(N, K, M, W, H, thetas, _lambda, d, rho_c, rho_r, sigma_n2)\n",
        "\n",
        "    print(\"Result from f():\", result)\n",
        "\n",
        "test_f()"
      ],
      "metadata": {
        "colab": {
          "base_uri": "https://localhost:8080/"
        },
        "id": "S5A6HSf5AEed",
        "outputId": "0d204a37-0214-4454-f52d-ecd4d710fd73"
      },
      "execution_count": 13,
      "outputs": [
        {
          "output_type": "stream",
          "name": "stdout",
          "text": [
            "Result from f(): 36.282684404242765\n"
          ]
        }
      ]
    }
  ]
}